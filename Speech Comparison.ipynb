{
 "cells": [
  {
   "cell_type": "code",
   "execution_count": 2,
   "metadata": {
    "scrolled": false
   },
   "outputs": [
    {
     "name": "stdout",
     "output_type": "stream",
     "text": [
      "Thread: 1 Done!\n",
      "Thread: 2 Done!\n",
      "Thread: 3 Done!\n",
      "Thread: 4 Done!\n",
      "Thread: 5 Done!\n",
      "Thread: 6 Done!\n",
      "Thread: 7 Done!\n",
      "Thread: 8 Done!\n",
      "Thread: 9 Done!\n",
      "Thread: 10 Done!\n",
      "Thread: 11 Done!\n",
      "Thread: 12 Done!\n",
      "Thread: 13 Done!\n",
      "Thread: 14 Done!\n",
      "Thread: 15 Done!\n",
      "Thread: 16 Done!\n",
      "Thread: 17 Done!\n",
      "Thread: 18 Done!\n",
      "Thread: 19 Done!\n",
      "Thread: 20 Done!\n",
      "Thread: 21 Done!\n"
     ]
    },
    {
     "data": {
      "image/png": "[encoded data removed]",
      "text/plain": [
       "<Figure size 432x288 with 1 Axes>"
      ]
     },
     "metadata": {
      "needs_background": "light"
     },
     "output_type": "display_data"
    }
   ],
   "source": [
    "import speech\n",
    "import os\n",
    "import threading\n",
    "import seaborn as sns\n",
    "import pandas\n",
    "\n",
    "\n",
    "#This function compares a text string, and an interpreted voice recording. Compares them and stores them\n",
    "#Input: Speech Object, String(path to recordings), String(path to original text file), List of List(Storage)\n",
    "#Output: -1 if error, 0 if sucess \n",
    "def conv_Compare_Push(speechObj,groupNumber,originalFile,storage):\n",
    "    \n",
    "    try:\n",
    "        #Read orginal text file\n",
    "        speechObj.read_original(originalFile)\n",
    "        #Google converts audio to text\n",
    "        speechObj.conv_audio(groupNumber)\n",
    "        #Compare the strings\n",
    "        speechObj.comp_string()\n",
    "    except:\n",
    "        return -1\n",
    "    \n",
    "    #Store the comparisions \n",
    "    storage.append(speechObj.distances)\n",
    "    \n",
    "    return 0\n",
    "\n",
    "#Directory Variables\n",
    "speechText = os.getcwd()  + '\\\\How Speech Recognition Works.txt'\n",
    "currentDir = os.getcwd()\n",
    "\n",
    "#Data storage and threads\n",
    "data = [ ]\n",
    "threads = []\n",
    "print\n",
    "\n",
    "#For each file in current directory\n",
    "for file in os.listdir(currentDir):\n",
    "    \n",
    "    #if the folder is numberical\n",
    "    if (file.isnumeric()):\n",
    "        currentGroupDir = currentDir + '\\\\' + file\n",
    "        speechObj = speech.Speech()\n",
    "        \n",
    "        #Make and start a thread for this folder \n",
    "        thread = threading.Thread(target=conv_Compare_Push,args=(speechObj,currentGroupDir,speechText,data,))\n",
    "        threads.append(thread)\n",
    "        thread.start()\n",
    "        \n",
    "count = 0        \n",
    "#Join all threads    \n",
    "for thread in threads:\n",
    "    thread.join()\n",
    "    print(\"Thread: \"+str(count + 1)+\" Done!\")\n",
    "    count = count + 1\n",
    "\n",
    "\n",
    "cleanedData = pandas.DataFrame(data = data,columns=[i+1 for i in range(25)])\n",
    "ax = sns.boxplot(data=cleanedData)"
   ]
  },
  {
   "cell_type": "code",
   "execution_count": null,
   "metadata": {},
   "outputs": [],
   "source": []
  }
 ],
 "metadata": {
  "kernelspec": {
   "display_name": "Python 3",
   "language": "python",
   "name": "python3"
  },
  "language_info": {
   "codemirror_mode": {
    "name": "ipython",
    "version": 3
   },
   "file_extension": ".py",
   "mimetype": "text/x-python",
   "name": "python",
   "nbconvert_exporter": "python",
   "pygments_lexer": "ipython3",
   "version": "3.8.3"
  }
 },
 "nbformat": 4,
 "nbformat_minor": 4
}
